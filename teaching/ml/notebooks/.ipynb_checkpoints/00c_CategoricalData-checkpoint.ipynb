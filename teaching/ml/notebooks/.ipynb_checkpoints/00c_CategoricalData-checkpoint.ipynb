{
 "cells": [
  {
   "cell_type": "markdown",
   "metadata": {},
   "source": [
    "# Handling categorical data in `scikit-learn`\n",
    "\n",
    "`scikit-learn` models typically work with quantitative data. When face with categorical data, those should be transformed before feeding the model so as not to get strange behaviors (or errors)."
   ]
  },
  {
   "cell_type": "code",
   "execution_count": 1,
   "metadata": {
    "collapsed": false,
    "jupyter": {
     "outputs_hidden": false
    }
   },
   "outputs": [],
   "source": [
    "import pandas\n",
    "import io  # Only used to show a sample file in the notebook\n",
    "from sklearn.linear_model import LinearRegression, LogisticRegression"
   ]
  },
  {
   "cell_type": "markdown",
   "metadata": {},
   "source": [
    "Let us assume we have the following data read using `pandas.read_csv` function:"
   ]
  },
  {
   "cell_type": "code",
   "execution_count": 2,
   "metadata": {
    "collapsed": false,
    "jupyter": {
     "outputs_hidden": false
    }
   },
   "outputs": [
    {
     "name": "stdout",
     "output_type": "stream",
     "text": [
      "   age sex  weight  height\n",
      "0   23   M      70     180\n",
      "1   22   M      65     160\n",
      "2   31   F      80     190\n",
      "3   26   M      80     175\n",
      "4   22   F      65     170\n"
     ]
    }
   ],
   "source": [
    "file_content = io.StringIO(\"\"\"age;sex;weight;height\n",
    "23;M;70;180\n",
    "22;M;65;160\n",
    "31;F;80;190\n",
    "26;M;80;175\n",
    "22;F;65;170\n",
    "\"\"\")\n",
    "\n",
    "df = pandas.read_csv(file_content, sep=\";\")\n",
    "print(df)"
   ]
  },
  {
   "cell_type": "markdown",
   "metadata": {},
   "source": [
    "At that point, we can build models relying on variables `age`, `weight` and `height` as those are quantitative variables. Let us, for example, fit a linear regression to explain `height` using other two variables:"
   ]
  },
  {
   "cell_type": "code",
   "execution_count": 3,
   "metadata": {
    "collapsed": false,
    "jupyter": {
     "outputs_hidden": false
    }
   },
   "outputs": [
    {
     "name": "stdout",
     "output_type": "stream",
     "text": [
      "[ 170.86538462  168.04487179  189.39102564  178.65384615  168.04487179]\n"
     ]
    }
   ],
   "source": [
    "X = df[[\"age\", \"weight\"]]\n",
    "y = df[\"height\"]\n",
    "\n",
    "model = LinearRegression()\n",
    "model.fit(X, y)\n",
    "print(model.predict(X))"
   ]
  },
  {
   "cell_type": "markdown",
   "metadata": {},
   "source": [
    "But, if we want to add the `sex` variable in the model, we have an issue:"
   ]
  },
  {
   "cell_type": "code",
   "execution_count": 4,
   "metadata": {
    "collapsed": false,
    "jupyter": {
     "outputs_hidden": false
    }
   },
   "outputs": [
    {
     "name": "stdout",
     "output_type": "stream",
     "text": [
      "Could not fit the model because of erroneous type\n"
     ]
    }
   ],
   "source": [
    "X = df[[\"age\", \"weight\", \"sex\"]]\n",
    "y = df[\"height\"]\n",
    "\n",
    "try:\n",
    "    model = LinearRegression()\n",
    "    model.fit(X, y)\n",
    "    print(model.predict(X))\n",
    "except ValueError:\n",
    "    print(\"Could not fit the model because of erroneous type\")"
   ]
  },
  {
   "cell_type": "markdown",
   "metadata": {},
   "source": [
    "Note that we do not have the same issue if the categorical variable is the one to be predicted by the model:"
   ]
  },
  {
   "cell_type": "code",
   "execution_count": 5,
   "metadata": {
    "collapsed": false,
    "jupyter": {
     "outputs_hidden": false
    }
   },
   "outputs": [
    {
     "name": "stdout",
     "output_type": "stream",
     "text": [
      "['M' 'M' 'F' 'M' 'F']\n"
     ]
    }
   ],
   "source": [
    "X = df[[\"age\", \"weight\", \"height\"]]\n",
    "y = df[\"sex\"]\n",
    "\n",
    "# If we want to do classification, we should use LogisticRegression instead of LinearRegression\n",
    "model = LogisticRegression()\n",
    "model.fit(X, y)\n",
    "print(model.predict(X))"
   ]
  },
  {
   "cell_type": "markdown",
   "metadata": {},
   "source": [
    "Now, if our categorical variable is a regressor in the model, we should transform it before using `scikit-learn`. This is true even if we do not get an error at fitting. For example, if the categories are numbered `1`, `2`, and `3`, it is of prime importance to recode them so that `scikit-learn` does not treat them as numerical data!\n",
    "\n",
    "To transform a given column corresponding to categorical data, we will use the `pandas.get_dummies` function as follows:"
   ]
  },
  {
   "cell_type": "code",
   "execution_count": 6,
   "metadata": {
    "collapsed": false,
    "jupyter": {
     "outputs_hidden": false
    }
   },
   "outputs": [
    {
     "name": "stdout",
     "output_type": "stream",
     "text": [
      "   age  weight  height  sex_F  sex_M\n",
      "0   23      70     180      0      1\n",
      "1   22      65     160      0      1\n",
      "2   31      80     190      1      0\n",
      "3   26      80     175      0      1\n",
      "4   22      65     170      1      0\n"
     ]
    }
   ],
   "source": [
    "df_sklearn = pandas.get_dummies(df, columns=[\"sex\"])\n",
    "print(df_sklearn)"
   ]
  },
  {
   "cell_type": "code",
   "execution_count": 7,
   "metadata": {
    "collapsed": false,
    "jupyter": {
     "outputs_hidden": false
    }
   },
   "outputs": [
    {
     "name": "stdout",
     "output_type": "stream",
     "text": [
      "[ 169.97093023  166.01744186  189.33139535  179.01162791  170.66860465]\n"
     ]
    }
   ],
   "source": [
    "X = df_sklearn[[\"age\", \"weight\", \"sex_F\", \"sex_M\"]]\n",
    "y = df_sklearn[\"height\"]\n",
    "\n",
    "model = LinearRegression()\n",
    "model.fit(X, y)\n",
    "print(model.predict(X))"
   ]
  },
  {
   "cell_type": "markdown",
   "metadata": {},
   "source": [
    "Note however that this pre-processing can be done in `scikit-learn` directly using the `OneHotEncoder` class:"
   ]
  },
  {
   "cell_type": "code",
   "execution_count": null,
   "metadata": {},
   "outputs": [],
   "source": [
    "from sklearn.preprocessing import OneHotEncoder\n",
    "\n",
    "X = df[[\"age\", \"weight\", \"sex\"]]\n",
    "y = df[\"height\"]\n",
    "\n",
    "preprocessor = OneHotEncoder()\n",
    "\n",
    "X_preprocessed = preprocessor.fit_transform(X)\n",
    "\n",
    "print(X_preprocessed)"
   ]
  }
 ],
 "metadata": {
  "kernelspec": {
   "display_name": "Python 3 (ipykernel)",
   "language": "python",
   "name": "python3"
  },
  "language_info": {
   "codemirror_mode": {
    "name": "ipython",
    "version": 3
   },
   "file_extension": ".py",
   "mimetype": "text/x-python",
   "name": "python",
   "nbconvert_exporter": "python",
   "pygments_lexer": "ipython3",
   "version": "3.8.12"
  }
 },
 "nbformat": 4,
 "nbformat_minor": 4
}
